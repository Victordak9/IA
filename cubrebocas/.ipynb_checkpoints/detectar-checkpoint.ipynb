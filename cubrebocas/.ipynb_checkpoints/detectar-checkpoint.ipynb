{
 "cells": [
  {
   "cell_type": "code",
   "execution_count": 1,
   "id": "c26247ee-3052-4cbd-ab48-38ad647d61b6",
   "metadata": {
    "tags": []
   },
   "outputs": [
    {
     "ename": "error",
     "evalue": "OpenCV(4.8.1) D:\\a\\opencv-python\\opencv-python\\opencv\\modules\\objdetect\\src\\cascadedetect.cpp:1689: error: (-215:Assertion failed) !empty() in function 'cv::CascadeClassifier::detectMultiScale'\n",
     "output_type": "error",
     "traceback": [
      "\u001b[1;31m---------------------------------------------------------------------------\u001b[0m",
      "\u001b[1;31merror\u001b[0m                                     Traceback (most recent call last)",
      "Cell \u001b[1;32mIn[1], line 16\u001b[0m\n\u001b[0;32m     13\u001b[0m     gray \u001b[38;5;241m=\u001b[39m cv2\u001b[38;5;241m.\u001b[39mcvtColor(frame, cv2\u001b[38;5;241m.\u001b[39mCOLOR_BGR2GRAY)\n\u001b[0;32m     15\u001b[0m \u001b[38;5;66;03m#Obtener las detecciones que se realizan\u001b[39;00m\n\u001b[1;32m---> 16\u001b[0m     wed \u001b[38;5;241m=\u001b[39m clasificador\u001b[38;5;241m.\u001b[39mdetectMultiScale(gray,\n\u001b[0;32m     17\u001b[0m     scaleFactor \u001b[38;5;241m=\u001b[39m \u001b[38;5;241m1.1\u001b[39m,\n\u001b[0;32m     18\u001b[0m     minNeighbors \u001b[38;5;241m=\u001b[39m \u001b[38;5;241m101\u001b[39m,\n\u001b[0;32m     19\u001b[0m     minSize \u001b[38;5;241m=\u001b[39m (\u001b[38;5;241m70\u001b[39m,\u001b[38;5;241m78\u001b[39m))\n\u001b[0;32m     21\u001b[0m \u001b[38;5;66;03m#Recorrer todas las detecciones\u001b[39;00m\n\u001b[0;32m     22\u001b[0m     \u001b[38;5;28;01mfor\u001b[39;00m (x,y,w,h) \u001b[38;5;129;01min\u001b[39;00m wed:\n\u001b[0;32m     23\u001b[0m         \u001b[38;5;66;03m# Colocar un rectángulo\u001b[39;00m\n",
      "\u001b[1;31merror\u001b[0m: OpenCV(4.8.1) D:\\a\\opencv-python\\opencv-python\\opencv\\modules\\objdetect\\src\\cascadedetect.cpp:1689: error: (-215:Assertion failed) !empty() in function 'cv::CascadeClassifier::detectMultiScale'\n"
     ]
    }
   ],
   "source": [
    "import cv2\n",
    "\n",
    "#Cargar la captura de video\n",
    "cap = cv2.VideoCapture(0,cv2.CAP_DSHOW)\n",
    "\n",
    "#Cargar el clasificador haarcascade entrenado\n",
    "clasificador = cv2.CascadeClassifier('cascade.xml')\n",
    "\n",
    "while True:\n",
    "\n",
    "#Capturar la imagen\n",
    "    ret,frame = cap.read()\n",
    "    gray = cv2.cvtColor(frame, cv2.COLOR_BGR2GRAY)\n",
    "\n",
    "#Obtener las detecciones que se realizan\n",
    "    wed = clasificador.detectMultiScale(gray,\n",
    "    scaleFactor = 1.1,\n",
    "    minNeighbors = 101,\n",
    "    minSize = (70,78))\n",
    "\n",
    "#Recorrer todas las detecciones\n",
    "    for (x,y,w,h) in wed:\n",
    "        # Colocar un rectángulo\n",
    "        cv2.rectangle(frame, (x,y),(x+w,y+h),(255,0,0),2)\n",
    "        # Y el texto\n",
    "        cv2.putText(frame,'Cubrebocas',(x,y-10),2,0.7,(0,255,0),2,cv2.LINE_AA)\n",
    "\n",
    "    cv2.imshow('frame',frame)\n",
    "\n",
    "#Salir con la tecla ESC\n",
    "    if cv2.waitKey(1) == 27:\n",
    "        break\n",
    "cap.release()\n",
    "cv2.destroyAllWindows()"
   ]
  },
  {
   "cell_type": "code",
   "execution_count": null,
   "id": "6a01b759-be8a-429e-91c0-fc8088493ebe",
   "metadata": {},
   "outputs": [],
   "source": []
  }
 ],
 "metadata": {
  "kernelspec": {
   "display_name": "Python 3 (ipykernel)",
   "language": "python",
   "name": "python3"
  },
  "language_info": {
   "codemirror_mode": {
    "name": "ipython",
    "version": 3
   },
   "file_extension": ".py",
   "mimetype": "text/x-python",
   "name": "python",
   "nbconvert_exporter": "python",
   "pygments_lexer": "ipython3",
   "version": "3.11.4"
  }
 },
 "nbformat": 4,
 "nbformat_minor": 5
}
