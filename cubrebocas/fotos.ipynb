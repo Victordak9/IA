{
 "cells": [
  {
   "cell_type": "code",
   "execution_count": 7,
   "id": "f1f51018-b6c4-4d72-b07f-c4a5484665cb",
   "metadata": {
    "tags": []
   },
   "outputs": [
    {
     "name": "stdout",
     "output_type": "stream",
     "text": [
      "Requirement already satisfied: pip in c:\\users\\calde\\anaconda3\\lib\\site-packages (23.2.1)\n",
      "Collecting install\n",
      "  Downloading install-1.3.5-py3-none-any.whl (3.2 kB)\n",
      "Collecting imutils\n",
      "  Downloading imutils-0.5.4.tar.gz (17 kB)\n",
      "  Preparing metadata (setup.py): started\n",
      "  Preparing metadata (setup.py): finished with status 'done'\n",
      "Building wheels for collected packages: imutils\n",
      "  Building wheel for imutils (setup.py): started\n",
      "  Building wheel for imutils (setup.py): finished with status 'done'\n",
      "  Created wheel for imutils: filename=imutils-0.5.4-py3-none-any.whl size=25854 sha256=63c8b9dcae9fa89049a52d69b15af3fc7566a9e849d88bd9fdb0b55725a71a4e\n",
      "  Stored in directory: c:\\users\\calde\\appdata\\local\\pip\\cache\\wheels\\31\\d0\\2c\\87ce38f6052879e5b7b18f0f8b4a10ad2a9d210e908d449f16\n",
      "Successfully built imutils\n",
      "Installing collected packages: imutils, install\n",
      "Successfully installed imutils-0.5.4 install-1.3.5\n"
     ]
    }
   ],
   "source": [
    "!pip install pip install imutils\n"
   ]
  },
  {
   "cell_type": "code",
   "execution_count": 10,
   "id": "ec88856d-f769-4053-877b-cd2959f472d2",
   "metadata": {
    "tags": []
   },
   "outputs": [
    {
     "name": "stdout",
     "output_type": "stream",
     "text": [
      "Imagen guardada:/objeto_0.jpg\n",
      "Imagen guardada:/objeto_1.jpg\n",
      "Imagen guardada:/objeto_2.jpg\n",
      "Imagen guardada:/objeto_3.jpg\n"
     ]
    }
   ],
   "source": [
    "#Cargar todas las librerías a utilizar\n",
    "import cv2\n",
    "import numpy as np\n",
    "import imutils\n",
    "import os\n",
    "\n",
    "#En esta sección se genera la carpeta donde se guardarán las\n",
    "#imágenes del entrenamiento\n",
    "Datos = 'n'\n",
    "if not os.path.exists(Datos):\n",
    "    print('Carpeta creada en ' + os.getcwd() + \"\\\\\" + Datos)\n",
    "    os.makedirs(Datos)\n",
    "\n",
    "#Cargar la captura de video\n",
    "cap = cv2.VideoCapture(0, cv2.CAP_DSHOW)\n",
    "\n",
    "#Obtener el tamaño de la imagen a tomar\n",
    "anch = int(cap.get(3))\n",
    "alto = int(cap.get(4))\n",
    "\n",
    "#Se crea un rectángulo para considerar de la imagen\n",
    "x1, y1 = 180, 70\n",
    "x2, y2 = anch - 180, alto - 70\n",
    "\n",
    "count = 0\n",
    "while True:\n",
    "\n",
    "#Leer cuadro por cuadro\n",
    "    ret, frame = cap.read()\n",
    "    # En caso de que algo falle en la captura de imágenes, salir\n",
    "    if ret == False: break\n",
    "    # Obtener una copia de la imagen capturada\n",
    "    imAux = frame.copy()\n",
    "    # Dibujar el rectángulo donde se colocará la imagen\n",
    "    cv2.rectangle(frame,(x1,y1),(x2,y2),(255,0,0),4)\n",
    "\n",
    "#Obtener la parte donde se muestra el objeto\n",
    "    objeto = imAux[y1:y2,x1:x2]\n",
    "    # Cambiar el tamaño de la imagen a uno pequeño\n",
    "    objeto = imutils.resize(objeto,width=38)\n",
    "\n",
    "#Obtener la tecla presionada\n",
    "    k = cv2.waitKey(1)\n",
    "    # En caso de que se presione una 's' guardar la imagen\n",
    "    if k == ord('s'):\n",
    "        cv2.imwrite(Datos+'/objeto{}.jpg'.format(count),objeto)\n",
    "        print('Imagen guardada:'+'/objeto_{}.jpg'.format(count))\n",
    "        count = count +1\n",
    "    # Con la tecla ESC se sale del programa\n",
    "    if k == 27:\n",
    "        break\n",
    "\n",
    "#Mostrar las imágenes de la cámara\n",
    "    cv2.imshow('frame',frame)\n",
    "    # y el objeto\n",
    "    cv2.imshow('objeto',objeto)\n",
    "\n",
    "cap.release()\n",
    "cv2.destroyAllWindows()"
   ]
  },
  {
   "cell_type": "code",
   "execution_count": null,
   "id": "f468cb3d-ef0e-452d-9c6e-f037144d44ee",
   "metadata": {},
   "outputs": [],
   "source": []
  }
 ],
 "metadata": {
  "kernelspec": {
   "display_name": "Python 3 (ipykernel)",
   "language": "python",
   "name": "python3"
  },
  "language_info": {
   "codemirror_mode": {
    "name": "ipython",
    "version": 3
   },
   "file_extension": ".py",
   "mimetype": "text/x-python",
   "name": "python",
   "nbconvert_exporter": "python",
   "pygments_lexer": "ipython3",
   "version": "3.11.4"
  }
 },
 "nbformat": 4,
 "nbformat_minor": 5
}
